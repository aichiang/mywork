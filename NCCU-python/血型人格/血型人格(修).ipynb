{
 "cells": [
  {
   "cell_type": "code",
   "execution_count": 1,
   "metadata": {},
   "outputs": [],
   "source": [
    "import time"
   ]
  },
  {
   "cell_type": "code",
   "execution_count": 2,
   "metadata": {},
   "outputs": [
    {
     "name": "stdout",
     "output_type": "stream",
     "text": [
      "血型-A、B、O、AB - 你知道你的血型人格特色嗎?\n",
      "離開請輸入bybe\n",
      "輸入血型(A,B,O,AB):A\n",
      "在奇怪地方有原則；深思熟慮後才行動；不坦率；會為了別人勉強自己；\n",
      "\n",
      "想知道其他血型人格嗎?\n",
      "輸入血型(A,B,O,AB):bybe\n",
      "下次再連絡\n"
     ]
    }
   ],
   "source": [
    "print('血型-A、B、O、AB - 你知道你的血型人格特色嗎?')\n",
    "print('離開請輸入bybe')\n",
    "Blood = ''\n",
    "while Blood !='bybe' :       \n",
    "    Blood = input('輸入血型(A,B,O,AB):')\n",
    "    if Blood =='A':\n",
    "        print('在奇怪地方有原則；深思熟慮後才行動；不坦率；會為了別人勉強自己；')\n",
    "        print('')\n",
    "        time.sleep(2)\n",
    "        print('想知道其他血型人格嗎?')\n",
    "       \n",
    "    elif Blood =='B':\n",
    "        print('不擅長沉默；討厭閒著沒事；健忘；不想去察顏觀色')\n",
    "        print('')\n",
    "        time.sleep(2)\n",
    "        print('想知道其他血型人格嗎?')\n",
    "        \n",
    "    elif Blood =='AB':\n",
    "        print('熱血行動派；比起磨蹭更喜歡一股作氣；在奇怪的方面非常頑固；')\n",
    "        print('')\n",
    "        time.sleep(2)\n",
    "        print('想知道其他血型人格嗎?')\n",
    "        \n",
    "    elif Blood =='O':\n",
    "        print('容易小題大作；擅長照顧別人的心情；不會按照計畫行事；')\n",
    "        print('')\n",
    "        time.sleep(2)\n",
    "        print('想知道其他血型人格嗎?')\n",
    "        \n",
    "    elif Blood == 'bybe':\n",
    "        print('下次再連絡')\n",
    "        \n",
    "    else:\n",
    "        print('發現新物種?!') \n",
    "        print(' ') \n",
    "        print('再給你一次機會!! ') "
   ]
  },
  {
   "cell_type": "code",
   "execution_count": 3,
   "metadata": {},
   "outputs": [
    {
     "name": "stdout",
     "output_type": "stream",
     "text": [
      "The following commands were written to file `Blood.py`:\n",
      "import time\n",
      "print('血型-A、B、O、AB - 你知道你的血型人格特色嗎?')\n",
      "print('離開請輸入bybe')\n",
      "Blood = ''\n",
      "while Blood !='bybe' :       \n",
      "    Blood = input('輸入血型(A,B,O,AB):')\n",
      "    if Blood =='A':\n",
      "        print('在奇怪地方有原則；深思熟慮後才行動；不坦率；會為了別人勉強自己；')\n",
      "        print('')\n",
      "        time.sleep(2)\n",
      "        print('想知道其他血型人格嗎?')\n",
      "       \n",
      "    elif Blood =='B':\n",
      "        print('不擅長沉默；討厭閒著沒事；健忘；不想去察顏觀色')\n",
      "        print('')\n",
      "        time.sleep(2)\n",
      "        print('想知道其他血型人格嗎?')\n",
      "        \n",
      "    elif Blood =='AB':\n",
      "        print('熱血行動派；比起磨蹭更喜歡一股作氣；在奇怪的方面非常頑固；')\n",
      "        print('')\n",
      "        time.sleep(2)\n",
      "        print('想知道其他血型人格嗎?')\n",
      "        \n",
      "    elif Blood =='O':\n",
      "        print('容易小題大作；擅長照顧別人的心情；不會按照計畫行事；')\n",
      "        print('')\n",
      "        time.sleep(2)\n",
      "        print('想知道其他血型人格嗎?')\n",
      "        \n",
      "    elif Blood == 'bybe':\n",
      "        print('下次再連絡')\n",
      "        \n",
      "    else:\n",
      "        print('發現新物種?!') \n",
      "        print(' ') \n",
      "        print('再給你一次機會!! ') \n"
     ]
    }
   ],
   "source": [
    "%save \"Blood.py\" 1 2"
   ]
  },
  {
   "cell_type": "code",
   "execution_count": null,
   "metadata": {},
   "outputs": [],
   "source": []
  }
 ],
 "metadata": {
  "kernelspec": {
   "display_name": "Python 3",
   "language": "python",
   "name": "python3"
  },
  "language_info": {
   "codemirror_mode": {
    "name": "ipython",
    "version": 3
   },
   "file_extension": ".py",
   "mimetype": "text/x-python",
   "name": "python",
   "nbconvert_exporter": "python",
   "pygments_lexer": "ipython3",
   "version": "3.7.3"
  }
 },
 "nbformat": 4,
 "nbformat_minor": 2
}
