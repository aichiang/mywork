{
 "cells": [
  {
   "cell_type": "code",
   "execution_count": 1,
   "metadata": {},
   "outputs": [
    {
     "data": {
      "text/plain": [
       "'2019-08-04  20:35:11'"
      ]
     },
     "execution_count": 1,
     "metadata": {},
     "output_type": "execute_result"
    }
   ],
   "source": [
    "import datetime\n",
    "\n",
    "now = datetime.datetime.now()\n",
    "nowtime = now.strftime('%Y-%m-%d  %H:%M:%S')\n",
    "nowtime"
   ]
  },
  {
   "cell_type": "markdown",
   "metadata": {},
   "source": [
    "## $Q\\,給你一個範圍 \\,a 到 \\,b ，請你找出 \\,a 與 \\,b 之間所有奇數的和$"
   ]
  },
  {
   "cell_type": "code",
   "execution_count": 2,
   "metadata": {},
   "outputs": [
    {
     "name": "stdout",
     "output_type": "stream",
     "text": [
      "測試組數：3\n",
      "輸入範圍:1 6\n",
      "輸入範圍:2 4\n",
      "輸入範圍:1 20\n",
      "1和6之間所有奇數的和:9\n",
      "2和4之間所有奇數的和:3\n",
      "1和20之間所有奇數的和:100\n"
     ]
    }
   ],
   "source": [
    "spam = int(input(\"測試組數：\"))\n",
    "s1 = 0\n",
    "s2 = 0\n",
    "L = []\n",
    "for i in range(spam):\n",
    "    s =(input(\"輸入範圍:\")).split()\n",
    "    L.append(s)\n",
    "for P in L:\n",
    "    s1 =0\n",
    "    for j in range(int(P[0]),int(P[1])+1):\n",
    "        if j %2 != 0 :\n",
    "            s1 += j\n",
    "    print(f\"{P[0]}和{P[1]}之間所有奇數的和:{s1}\")\n",
    "        \n",
    "            \n",
    "   "
   ]
  },
  {
   "cell_type": "code",
   "execution_count": 3,
   "metadata": {},
   "outputs": [
    {
     "name": "stdout",
     "output_type": "stream",
     "text": [
      "The following commands were written to file `Q10783 Odd Sum.py`:\n",
      "spam = int(input(\"測試組數：\"))\n",
      "s1 = 0\n",
      "s2 = 0\n",
      "L = []\n",
      "for i in range(spam):\n",
      "    s =(input(\"輸入範圍:\")).split()\n",
      "    L.append(s)\n",
      "for P in L:\n",
      "    s1 =0\n",
      "    for j in range(int(P[0]),int(P[1])+1):\n",
      "        if j %2 != 0 :\n",
      "            s1 += j\n",
      "    print(f\"{P[0]}和{P[1]}之間所有奇數的和:{s1}\")\n",
      "        \n",
      "            \n",
      "   \n"
     ]
    }
   ],
   "source": [
    "%save \"Q10783 Odd Sum.py\" 2"
   ]
  },
  {
   "cell_type": "code",
   "execution_count": null,
   "metadata": {},
   "outputs": [],
   "source": []
  }
 ],
 "metadata": {
  "kernelspec": {
   "display_name": "Python 3",
   "language": "python",
   "name": "python3"
  },
  "language_info": {
   "codemirror_mode": {
    "name": "ipython",
    "version": 3
   },
   "file_extension": ".py",
   "mimetype": "text/x-python",
   "name": "python",
   "nbconvert_exporter": "python",
   "pygments_lexer": "ipython3",
   "version": "3.7.3"
  }
 },
 "nbformat": 4,
 "nbformat_minor": 2
}
