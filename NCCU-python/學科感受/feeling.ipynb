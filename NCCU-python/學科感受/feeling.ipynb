{
 "cells": [
  {
   "cell_type": "code",
   "execution_count": 2,
   "metadata": {},
   "outputs": [],
   "source": [
    "from  random import randint, choices, sample"
   ]
  },
  {
   "cell_type": "code",
   "execution_count": 10,
   "metadata": {},
   "outputs": [],
   "source": [
    "sub ='''國文\n",
    "英文\n",
    "數學\n",
    "化學\n",
    "物理\n",
    "音樂\n",
    "歷史\n",
    "地理\n",
    "生物\n",
    "童軍\n",
    "地科\n",
    "電腦\n",
    "選修\n",
    "不討喜\n",
    "老師\n",
    "重補修\n",
    "補考\n",
    "謝謝再聯絡\n",
    "學生\n",
    "一般人\n",
    "打斷重練\n",
    "腦殘\n",
    "空白\n",
    "喜歡\n",
    "沉迷\n",
    "沉醉\n",
    "著魔\n",
    "厭世'''"
   ]
  },
  {
   "cell_type": "code",
   "execution_count": 23,
   "metadata": {},
   "outputs": [],
   "source": [
    "def feeling():\n",
    "    D=sub.split('\\n')\n",
    "    n = randint(4,5)\n",
    "    for i in range(n):\n",
    "        m = randint(5,11)\n",
    "        w = sample(D,m)\n",
    "        print('')\n",
    "        print(' '.join(w))"
   ]
  },
  {
   "cell_type": "code",
   "execution_count": 27,
   "metadata": {
    "scrolled": true
   },
   "outputs": [
    {
     "name": "stdout",
     "output_type": "stream",
     "text": [
      "\n",
      "空白 地科 歷史 沉醉 地理 重補修 喜歡 不討喜 著魔\n",
      "\n",
      "數學 厭世 老師 物理 國文\n",
      "\n",
      "空白 歷史 物理 著魔 音樂 選修 數學 重補修 電腦 化學 腦殘\n",
      "\n",
      "物理 腦殘 地科 厭世 著魔 謝謝再聯絡 音樂 一般人\n"
     ]
    }
   ],
   "source": [
    "feeling()"
   ]
  },
  {
   "cell_type": "code",
   "execution_count": 53,
   "metadata": {},
   "outputs": [
    {
     "name": "stderr",
     "output_type": "stream",
     "text": [
      "UsageError: Line magic function `%` not found.\n"
     ]
    }
   ],
   "source": [
    "% save \"feeling.py\" 2 10 23 27"
   ]
  },
  {
   "cell_type": "markdown",
   "metadata": {},
   "source": [
    "### 格式化輸出"
   ]
  },
  {
   "cell_type": "code",
   "execution_count": 41,
   "metadata": {},
   "outputs": [
    {
     "data": {
      "text/plain": [
       "28"
      ]
     },
     "execution_count": 41,
     "metadata": {},
     "output_type": "execute_result"
    }
   ],
   "source": [
    "D=sub.split('\\n')\n",
    "len(D)"
   ]
  },
  {
   "cell_type": "code",
   "execution_count": 45,
   "metadata": {},
   "outputs": [
    {
     "name": "stdout",
     "output_type": "stream",
     "text": [
      "        國文\n",
      "        英文\n",
      "        數學\n",
      "        化學\n",
      "        物理\n",
      "        音樂\n",
      "        歷史\n",
      "        地理\n",
      "        生物\n",
      "        童軍\n",
      "        地科\n",
      "        電腦\n",
      "        選修\n",
      "       不討喜\n",
      "        老師\n",
      "       重補修\n",
      "        補考\n",
      "     謝謝再聯絡\n",
      "        學生\n",
      "       一般人\n",
      "      打斷重練\n",
      "        腦殘\n",
      "        空白\n",
      "        喜歡\n",
      "        沉迷\n",
      "        沉醉\n",
      "        著魔\n",
      "        厭世\n"
     ]
    }
   ],
   "source": [
    "for i in range(28):\n",
    "    L = D[i]\n",
    "    print(f'{L:>10s}')"
   ]
  },
  {
   "cell_type": "code",
   "execution_count": 52,
   "metadata": {},
   "outputs": [
    {
     "name": "stdout",
     "output_type": "stream",
     "text": [
      "                                                國文    國文     \n",
      "                                                英文    英文     \n",
      "                                                數學    數學     \n",
      "                                                化學    化學     \n",
      "                                                物理    物理     \n",
      "                                                音樂    音樂     \n",
      "                                                歷史    歷史     \n",
      "                                                地理    地理     \n",
      "                                                生物    生物     \n",
      "                                                童軍    童軍     \n",
      "                                                地科    地科     \n",
      "                                                電腦    電腦     \n",
      "                                                選修    選修     \n",
      "                                               不討喜    不討喜    \n",
      "                                                老師    老師     \n",
      "                                               重補修    重補修    \n",
      "                                                補考    補考     \n",
      "                                             謝謝再聯絡   謝謝再聯絡   \n",
      "                                                學生    學生     \n",
      "                                               一般人    一般人    \n",
      "                                              打斷重練   打斷重練    \n",
      "                                                腦殘    腦殘     \n",
      "                                                空白    空白     \n",
      "                                                喜歡    喜歡     \n",
      "                                                沉迷    沉迷     \n",
      "                                                沉醉    沉醉     \n",
      "                                                著魔    著魔     \n",
      "                                                厭世    厭世     \n"
     ]
    }
   ],
   "source": [
    "for i in range(28):\n",
    "    L = D[i]\n",
    "    print(f'{L:>50s}{L:^11s}')"
   ]
  },
  {
   "cell_type": "code",
   "execution_count": null,
   "metadata": {},
   "outputs": [],
   "source": []
  }
 ],
 "metadata": {
  "kernelspec": {
   "display_name": "Python 3",
   "language": "python",
   "name": "python3"
  },
  "language_info": {
   "codemirror_mode": {
    "name": "ipython",
    "version": 3
   },
   "file_extension": ".py",
   "mimetype": "text/x-python",
   "name": "python",
   "nbconvert_exporter": "python",
   "pygments_lexer": "ipython3",
   "version": "3.7.3"
  }
 },
 "nbformat": 4,
 "nbformat_minor": 2
}
