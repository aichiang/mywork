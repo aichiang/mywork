{
 "cells": [
  {
   "cell_type": "code",
   "execution_count": 1,
   "metadata": {},
   "outputs": [
    {
     "data": {
      "text/markdown": [
       "$$1.計算 n件相異物取r件組合  = \\{C_{r}}^{s}\\$$"
      ],
      "text/plain": [
       "<IPython.core.display.Markdown object>"
      ]
     },
     "metadata": {},
     "output_type": "display_data"
    },
    {
     "name": "stdout",
     "output_type": "stream",
     "text": [
      "輸入相異物個數s =5\n",
      "輸入取件個數r =2\n",
      "只想要結果輸『1』,想看所有排列結果輸『2 』:2\n",
      "[12, 13, 14, 15, 23, 24, 25, 34, 35, 45]\n",
      "5件相異物取2件排列個數為: 10\n"
     ]
    }
   ],
   "source": [
    "from IPython.display import display, HTML, Markdown\n",
    "from itertools import permutations, combinations\n",
    "display(Markdown(\"$$2.計算 n件相異物取r件組合  = \\{C_{r}}^{s}\\$$\"))\n",
    "\n",
    "s = int(input('輸入相異物個數s ='))\n",
    "r = int(input('輸入取件個數r ='))\n",
    "hamm =(combinations(range(1, s+1),r))\n",
    "ch1 = int(input('只想要結果輸『1』,想看所有排列結果輸『2 』:'))\n",
    "if ch1 == 1:\n",
    "    print(f'{s}件相異物取{r}件排列個數為: {len(list(hamm))}')\n",
    "if ch1 ==2:\n",
    "    per = []\n",
    "    for per0 in hamm:\n",
    "        per1 =''\n",
    "        for i in range(len(per0)):\n",
    "            per1 = per1 +str(per0[i])\n",
    "        per.append(int(per1))\n",
    "    print(per)\n",
    "    print(f'{s}件相異物取{r}件排列個數為: {len(list(per))}')\n",
    "    "
   ]
  },
  {
   "cell_type": "code",
   "execution_count": 2,
   "metadata": {},
   "outputs": [
    {
     "name": "stdout",
     "output_type": "stream",
     "text": [
      "The following commands were written to file `com.py`:\n",
      "from IPython.display import display, HTML, Markdown\n",
      "from itertools import permutations, combinations\n",
      "display(Markdown(\"$$1.計算 n件相異物取r件組合  = \\{C_{r}}^{s}\\$$\"))\n",
      "\n",
      "s = int(input('輸入相異物個數s ='))\n",
      "r = int(input('輸入取件個數r ='))\n",
      "hamm =(combinations(range(1, s+1),r))\n",
      "ch1 = int(input('只想要結果輸『1』,想看所有排列結果輸『2 』:'))\n",
      "if ch1 == 1:\n",
      "    print(f'{s}件相異物取{r}件排列個數為: {len(list(hamm))}')\n",
      "if ch1 ==2:\n",
      "    per = []\n",
      "    for per0 in hamm:\n",
      "        per1 =''\n",
      "        for i in range(len(per0)):\n",
      "            per1 = per1 +str(per0[i])\n",
      "        per.append(int(per1))\n",
      "    print(per)\n",
      "    print(f'{s}件相異物取{r}件排列個數為: {len(list(per))}')\n",
      "    \n"
     ]
    }
   ],
   "source": [
    "%save \"com.py\" 1"
   ]
  },
  {
   "cell_type": "code",
   "execution_count": null,
   "metadata": {},
   "outputs": [],
   "source": []
  }
 ],
 "metadata": {
  "kernelspec": {
   "display_name": "Python 3",
   "language": "python",
   "name": "python3"
  },
  "language_info": {
   "codemirror_mode": {
    "name": "ipython",
    "version": 3
   },
   "file_extension": ".py",
   "mimetype": "text/x-python",
   "name": "python",
   "nbconvert_exporter": "python",
   "pygments_lexer": "ipython3",
   "version": "3.7.3"
  }
 },
 "nbformat": 4,
 "nbformat_minor": 2
}
