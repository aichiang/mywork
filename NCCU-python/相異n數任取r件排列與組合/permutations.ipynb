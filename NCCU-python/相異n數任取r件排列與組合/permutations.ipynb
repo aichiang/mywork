{
 "cells": [
  {
   "cell_type": "markdown",
   "metadata": {},
   "source": [
    "<h1><font color=\"blue\",face =\"標楷體\">\n",
    "Q.班上有40位同學，隨機抽取5位同學上台自我介紹，有幾種可能？\n",
    "</font></h1> "
   ]
  },
  {
   "cell_type": "code",
   "execution_count": 1,
   "metadata": {},
   "outputs": [],
   "source": [
    "from random import choices, sample, randint\n",
    "from itertools import permutations, combinations\n",
    "import datetime"
   ]
  },
  {
   "cell_type": "code",
   "execution_count": 2,
   "metadata": {},
   "outputs": [
    {
     "name": "stdout",
     "output_type": "stream",
     "text": [
      "2019-08-03\n"
     ]
    }
   ],
   "source": [
    "now = datetime.datetime.now()\n",
    "NowTime = now.strftime('%Y-%m-%d')\n",
    "print(NowTime)"
   ]
  },
  {
   "cell_type": "markdown",
   "metadata": {},
   "source": [
    "## 程式碼"
   ]
  },
  {
   "cell_type": "markdown",
   "metadata": {},
   "source": [
    "4有四個數字：1、2、3、4，能組成多少個互不相同且無重複數字的三位數？各是多少？"
   ]
  },
  {
   "cell_type": "code",
   "execution_count": 5,
   "metadata": {},
   "outputs": [
    {
     "name": "stdout",
     "output_type": "stream",
     "text": [
      "[123, 124, 132, 134, 142, 143, 213, 214, 231, 234, 241, 243, 312, 314, 321, 324, 341, 342, 412, 413, 421, 423, 431, 432]\n",
      "計數：24\n"
     ]
    }
   ],
   "source": [
    "result = []\n",
    "n0 = permutations(range(1,5),3)\n",
    "\n",
    "for p in n0:\n",
    "    n1 = ''\n",
    "    count = 0\n",
    "    for k in range(len(p)):\n",
    "        n1 = n1 + str(p[k])\n",
    "    \n",
    "    result.append((int(n1)))\n",
    "\n",
    "\n",
    "print(result,end = '\\n')\n",
    "print(f'計數：{len(result)}')"
   ]
  },
  {
   "cell_type": "code",
   "execution_count": null,
   "metadata": {},
   "outputs": [],
   "source": []
  }
 ],
 "metadata": {
  "kernelspec": {
   "display_name": "Python 3",
   "language": "python",
   "name": "python3"
  },
  "language_info": {
   "codemirror_mode": {
    "name": "ipython",
    "version": 3
   },
   "file_extension": ".py",
   "mimetype": "text/x-python",
   "name": "python",
   "nbconvert_exporter": "python",
   "pygments_lexer": "ipython3",
   "version": "3.7.3"
  }
 },
 "nbformat": 4,
 "nbformat_minor": 2
}
